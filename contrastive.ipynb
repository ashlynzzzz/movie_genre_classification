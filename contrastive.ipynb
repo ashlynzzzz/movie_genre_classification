{
 "cells": [
  {
   "cell_type": "code",
   "execution_count": 112,
   "metadata": {},
   "outputs": [],
   "source": [
    "import numpy as np\n",
    "import torch\n",
    "import torch.nn as nn\n",
    "import torch.nn.functional as F\n",
    "from torch.utils.data import DataLoader\n",
    "from tqdm import tqdm\n",
    "import random"
   ]
  },
  {
   "cell_type": "code",
   "execution_count": 113,
   "metadata": {},
   "outputs": [],
   "source": [
    "class FeatureDataset(torch.utils.data.Dataset):\n",
    "    def __init__(self, image_features, text_features):\n",
    "        self.image_features = image_features\n",
    "        self.text_features = text_features\n",
    "\n",
    "    def __len__(self):\n",
    "        return len(self.image_features)\n",
    "\n",
    "    def __getitem__(self, index):\n",
    "        return self.image_features[index], self.text_features[index]"
   ]
  },
  {
   "cell_type": "code",
   "execution_count": 114,
   "metadata": {},
   "outputs": [],
   "source": [
    "class BranchNetwork(nn.Module):\n",
    "    def __init__(self, img_feature_size, txt_feature_size, fc_dim = 2048, embed_dim = 512):\n",
    "        super(BranchNetwork, self).__init__()\n",
    "        self.img_fc = self._branch_network(img_feature_size, fc_dim, embed_dim)\n",
    "        self.txt_fc = self._branch_network(txt_feature_size, fc_dim, embed_dim)\n",
    "    \n",
    "    def _branch_network(self, input_dim, fc_dim, embed_dim):\n",
    "        return nn.Sequential(\n",
    "            nn.Linear(input_dim, fc_dim),\n",
    "            nn.BatchNorm1d(fc_dim, momentum=0.1, eps=1e-5),\n",
    "            nn.ReLU(),\n",
    "            nn.Dropout(),\n",
    "            nn.Linear(fc_dim, embed_dim)\n",
    "        )\n",
    "\n",
    "    def forward(self, image_features, text_features):\n",
    "        img_out = self.img_fc(image_features)\n",
    "        img_embedding = F.normalize(img_out, p=2, dim=1, eps=1e-10)\n",
    "        txt_out = self.txt_fc(text_features)\n",
    "        txt_embedding = F.normalize(txt_out, p=2, dim=1, eps=1e-10)\n",
    "\n",
    "        return img_embedding, txt_embedding"
   ]
  },
  {
   "cell_type": "code",
   "execution_count": 160,
   "metadata": {},
   "outputs": [],
   "source": [
    "class EmbeddingLoss(nn.Module):\n",
    "    def __init__(self, margin=0.2, num_neg_sample=5, im_loss_factor=0.5, txt_only_loss_factor=0.01):\n",
    "        super(EmbeddingLoss, self).__init__()\n",
    "\n",
    "        self.im_loss_factor = im_loss_factor\n",
    "        self.txt_only_loss_factor = txt_only_loss_factor\n",
    "        self.margin = margin\n",
    "        self.num_neg_sample = num_neg_sample\n",
    "\n",
    "    def forward(self, im_embeds, txt_embeds, im_labels, sample_size):\n",
    "        txt_im_ratio = sample_size\n",
    "        num_img = im_embeds.shape[0]\n",
    "        num_txt = num_img * txt_im_ratio\n",
    "\n",
    "        txt_im_dist = self._pdist(txt_embeds, im_embeds)\n",
    "\n",
    "        # Image loss\n",
    "        pos_pair_dist = txt_im_dist[im_labels].view(num_img, 1)\n",
    "        neg_pair_dist = txt_im_dist[~im_labels].view(num_img, -1)\n",
    "        im_loss = F.relu(self.margin + pos_pair_dist - neg_pair_dist).topk(self.num_neg_sample)[0].mean()\n",
    "\n",
    "        # Sentence loss\n",
    "        neg_pair_dist = txt_im_dist.t()[~im_labels.t()].view(num_img, -1).repeat(1, txt_im_ratio)\n",
    "        txt_loss = F.relu(self.margin + pos_pair_dist - neg_pair_dist).topk(self.num_neg_sample)[0].mean()\n",
    "\n",
    "        # Sentence only loss\n",
    "        txt_txt_dist = self._pdist(txt_embeds, txt_embeds)\n",
    "        txt_txt_mask = torch.reshape(im_labels.t().repeat(1, txt_im_ratio), (num_txt, num_txt))\n",
    "        pos_pair_dist = txt_txt_dist[txt_txt_mask].max(dim=0, keepdim=True)[0]\n",
    "        neg_pair_dist = txt_txt_dist[~txt_txt_mask].view(num_txt, -1)\n",
    "        sent_only_loss = F.relu(self.margin + pos_pair_dist - neg_pair_dist).topk(self.num_neg_sample)[0].mean()\n",
    "\n",
    "        loss = im_loss * self.im_loss_factor + txt_loss + sent_only_loss * self.txt_only_loss_factor\n",
    "        return loss\n",
    "\n",
    "    def _pdist(self, x1, x2):\n",
    "        x1_square = torch.sum(x1**2, dim=1).view(-1, 1)\n",
    "        x2_square = torch.sum(x2**2, dim=1).view(1, -1)\n",
    "        return torch.sqrt(x1_square - 2 * torch.mm(x1, x2.t()) + x2_square + 1e-4)"
   ]
  },
  {
   "cell_type": "code",
   "execution_count": 161,
   "metadata": {},
   "outputs": [],
   "source": [
    "def generate_neg_pairs(image_embedding, text_embedding, sample_size):\n",
    "    m, _ = image_embedding.shape\n",
    "    txt_embeds = torch.zeros(sample_size * m, text_embedding.shape[1])\n",
    "    im_labels = torch.zeros(sample_size * m, m, dtype=bool)\n",
    "    all_indices = np.arange(m)\n",
    "    for i in range(m):\n",
    "        indices = np.delete(all_indices, i)\n",
    "        random_indices = np.random.choice(indices, size=sample_size-1, replace=False)\n",
    "        txt_embeds[i * sample_size, :] = text_embedding[i, :]\n",
    "        txt_embeds[(i * sample_size + 1) : ((i + 1) * sample_size), :] = text_embedding[random_indices, :]\n",
    "        im_labels[0, i] = True\n",
    "    return image_embedding, txt_embeds, im_labels"
   ]
  },
  {
   "cell_type": "code",
   "execution_count": 162,
   "metadata": {},
   "outputs": [],
   "source": [
    "def set_seed(seed):\n",
    "    random.seed(seed)\n",
    "    torch.manual_seed(seed)\n",
    "    # transformers.set_seed(seed)\n",
    "    if torch.cuda.is_available():\n",
    "        torch.cuda.manual_seed_all(seed)"
   ]
  },
  {
   "cell_type": "code",
   "execution_count": 163,
   "metadata": {},
   "outputs": [
    {
     "name": "stdout",
     "output_type": "stream",
     "text": [
      "Epoch 1/10, Loss: 0.4060887098312378\n",
      "Epoch 2/10, Loss: 0.4047694206237793\n",
      "Epoch 3/10, Loss: 0.42284196615219116\n",
      "Epoch 4/10, Loss: 0.4120154082775116\n",
      "Epoch 5/10, Loss: 0.3867340087890625\n",
      "Epoch 6/10, Loss: 0.39003583788871765\n",
      "Epoch 7/10, Loss: 0.39095544815063477\n",
      "Epoch 8/10, Loss: 0.3868507146835327\n",
      "Epoch 9/10, Loss: 0.3876052498817444\n",
      "Epoch 10/10, Loss: 0.3833191692829132\n"
     ]
    }
   ],
   "source": [
    "SEED = 595\n",
    "set_seed(SEED)\n",
    "\n",
    "image_features = np.load('features/image_features_vgg16_remove.npy')\n",
    "text_features = np.load('features/text_LaBSE_merge.npy')\n",
    "batch_size = 256\n",
    "img_feature_size = image_features.shape[1]\n",
    "txt_feature_size = text_features.shape[1]\n",
    "learning_rate = 0.0001\n",
    "weight_decay = 0.1\n",
    "epochs = 10\n",
    "sample_size = 5\n",
    "embed_dim = 1024\n",
    "\n",
    "dataset = FeatureDataset(image_features, text_features)\n",
    "dataloader = DataLoader(dataset, batch_size=batch_size, shuffle=True)\n",
    "branch_net = BranchNetwork(img_feature_size, txt_feature_size, embed_dim = embed_dim)\n",
    "# optimizer = torch.optim.Adam(branch_net.parameters(), lr=learning_rate)\n",
    "optimizer = torch.optim.AdamW(branch_net.parameters(),\n",
    "                                lr=learning_rate,\n",
    "                                weight_decay=weight_decay)\n",
    "lr_scheduler = torch.optim.lr_scheduler.CosineAnnealingLR(optimizer,\n",
    "                                                    T_max=epochs,\n",
    "                                                    eta_min=learning_rate/50)\n",
    "embed_loss = EmbeddingLoss(num_neg_sample=sample_size)\n",
    "\n",
    "# Training\n",
    "for epoch in range(epochs):\n",
    "    for image_batch, text_batch in dataloader:\n",
    "        image_embedding, text_embedding = branch_net(image_batch, text_batch)\n",
    "        im_embeds, txt_embeds, im_labels = generate_neg_pairs(image_embedding, text_embedding, sample_size)\n",
    "        loss = embed_loss(im_embeds, txt_embeds, im_labels, sample_size)\n",
    "\n",
    "        optimizer.zero_grad()\n",
    "        loss.backward()\n",
    "        optimizer.step()\n",
    "    lr_scheduler.step()\n",
    "    print(f\"Epoch {epoch+1}/{epochs}, Loss: {loss.item()}\")"
   ]
  },
  {
   "cell_type": "code",
   "execution_count": 164,
   "metadata": {},
   "outputs": [],
   "source": [
    "i_result, t_result = branch_net.forward(torch.tensor(image_features), torch.tensor(text_features))\n",
    "np.save('features/trained_img_features.npy',i_result.detach().numpy())\n",
    "np.save('features/trained_txt_features.npy',t_result.detach().numpy())"
   ]
  },
  {
   "cell_type": "code",
   "execution_count": null,
   "metadata": {},
   "outputs": [],
   "source": []
  }
 ],
 "metadata": {
  "kernelspec": {
   "display_name": "Python 3",
   "language": "python",
   "name": "python3"
  },
  "language_info": {
   "codemirror_mode": {
    "name": "ipython",
    "version": 3
   },
   "file_extension": ".py",
   "mimetype": "text/x-python",
   "name": "python",
   "nbconvert_exporter": "python",
   "pygments_lexer": "ipython3",
   "version": "3.11.1"
  }
 },
 "nbformat": 4,
 "nbformat_minor": 2
}
