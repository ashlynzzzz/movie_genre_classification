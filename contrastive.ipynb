{
 "cells": [
  {
   "cell_type": "code",
   "execution_count": 28,
   "metadata": {},
   "outputs": [],
   "source": [
    "import numpy as np\n",
    "import torch\n",
    "import torch.nn as nn\n",
    "import torch.nn.functional as F\n",
    "from torch.utils.data import DataLoader\n",
    "from tqdm import tqdm\n",
    "import random"
   ]
  },
  {
   "cell_type": "code",
   "execution_count": 35,
   "metadata": {},
   "outputs": [],
   "source": [
    "class FeatureDataset(torch.utils.data.Dataset):\n",
    "    def __init__(self, image_features, text_features):\n",
    "        self.image_features = image_features\n",
    "        self.text_features = text_features\n",
    "\n",
    "    def __len__(self):\n",
    "        return len(self.image_features)\n",
    "\n",
    "    def __getitem__(self, index):\n",
    "        return self.image_features[index], self.text_features[index]"
   ]
  },
  {
   "cell_type": "code",
   "execution_count": 36,
   "metadata": {},
   "outputs": [],
   "source": [
    "class BranchNetwork(nn.Module):\n",
    "    def __init__(self, img_feature_size, txt_feature_size, fc_dim = 2048, embed_dim = 512):\n",
    "        super(BranchNetwork, self).__init__()\n",
    "        self.img_fc = self._branch_network(img_feature_size, fc_dim, embed_dim)\n",
    "        self.txt_fc = self._branch_network(txt_feature_size, fc_dim, embed_dim)\n",
    "    \n",
    "    def _branch_network(self, input_dim, fc_dim, embed_dim):\n",
    "        return nn.Sequential(\n",
    "            nn.Linear(input_dim, fc_dim),\n",
    "            nn.BatchNorm1d(fc_dim, momentum=0.1, eps=1e-5),\n",
    "            nn.ReLU(),\n",
    "            nn.Dropout(),\n",
    "            nn.Linear(fc_dim, embed_dim)\n",
    "        )\n",
    "\n",
    "    def forward(self, image_features, text_features):\n",
    "        img_out = self.img_fc(image_features)\n",
    "        img_embedding = F.normalize(img_out, p=2, dim=1, eps=1e-10)\n",
    "        txt_out = self.txt_fc(text_features)\n",
    "        txt_embedding = F.normalize(txt_out, p=2, dim=1, eps=1e-10)\n",
    "\n",
    "        return img_embedding, txt_embedding"
   ]
  },
  {
   "cell_type": "code",
   "execution_count": 37,
   "metadata": {},
   "outputs": [],
   "source": [
    "class EmbeddingLoss(nn.Module):\n",
    "    def __init__(self, margin=0.2, num_neg_sample=5, im_loss_factor=1.5, txt_only_loss_factor=0.05):\n",
    "        super(EmbeddingLoss, self).__init__()\n",
    "\n",
    "        self.im_loss_factor = im_loss_factor\n",
    "        self.txt_only_loss_factor = txt_only_loss_factor\n",
    "        self.margin = margin\n",
    "        self.num_neg_sample = num_neg_sample\n",
    "\n",
    "    def forward(self, im_embeds, txt_embeds, im_labels, sample_size):\n",
    "        txt_im_ratio = sample_size\n",
    "        num_img = im_embeds.shape[0]\n",
    "        num_txt = num_img * txt_im_ratio\n",
    "\n",
    "        txt_im_dist = self._pdist(txt_embeds, im_embeds)\n",
    "\n",
    "        # Image loss\n",
    "        pos_pair_dist = txt_im_dist[im_labels].view(num_img, 1)\n",
    "        neg_pair_dist = txt_im_dist[~im_labels].view(num_img, -1)\n",
    "        im_loss = F.relu(self.margin + pos_pair_dist - neg_pair_dist).topk(self.num_neg_sample)[0].mean()\n",
    "\n",
    "        # Sentence loss\n",
    "        neg_pair_dist = txt_im_dist.t()[~im_labels.t()].view(num_img, -1).repeat(1, txt_im_ratio)\n",
    "        txt_loss = F.relu(self.margin + pos_pair_dist - neg_pair_dist).topk(self.num_neg_sample)[0].mean()\n",
    "\n",
    "        # Sentence only loss\n",
    "        txt_txt_dist = self._pdist(txt_embeds, txt_embeds)\n",
    "        txt_txt_mask = torch.reshape(im_labels.t().repeat(1, txt_im_ratio), (num_txt, num_txt))\n",
    "        pos_pair_dist = txt_txt_dist[txt_txt_mask].max(dim=0, keepdim=True)[0]\n",
    "        neg_pair_dist = txt_txt_dist[~txt_txt_mask].view(num_txt, -1)\n",
    "        sent_only_loss = F.relu(self.margin + pos_pair_dist - neg_pair_dist).topk(self.num_neg_sample)[0].mean()\n",
    "\n",
    "        loss = im_loss * self.im_loss_factor + txt_loss + sent_only_loss * self.txt_only_loss_factor\n",
    "        return loss\n",
    "\n",
    "    def _pdist(self, x1, x2):\n",
    "        x1_square = torch.sum(x1**2, dim=1).view(-1, 1)\n",
    "        x2_square = torch.sum(x2**2, dim=1).view(1, -1)\n",
    "        return torch.sqrt(x1_square - 2 * torch.mm(x1, x2.t()) + x2_square + 1e-4)"
   ]
  },
  {
   "cell_type": "code",
   "execution_count": 38,
   "metadata": {},
   "outputs": [],
   "source": [
    "def generate_neg_pairs(image_embedding, text_embedding, sample_size):\n",
    "    m, _ = image_embedding.shape\n",
    "    txt_embeds = torch.zeros(sample_size * m, text_embedding.shape[1])\n",
    "    im_labels = torch.zeros(sample_size * m, m, dtype=bool)\n",
    "    all_indices = np.arange(m)\n",
    "    for i in range(m):\n",
    "        indices = np.delete(all_indices, i)\n",
    "        random_indices = np.random.choice(indices, size=sample_size-1, replace=False)\n",
    "        txt_embeds[i * sample_size, :] = text_embedding[i, :]\n",
    "        txt_embeds[(i * sample_size + 1) : ((i + 1) * sample_size), :] = text_embedding[random_indices, :]\n",
    "        im_labels[0, i] = True\n",
    "    return image_embedding, txt_embeds, im_labels"
   ]
  },
  {
   "cell_type": "code",
   "execution_count": 39,
   "metadata": {},
   "outputs": [],
   "source": [
    "def set_seed(seed):\n",
    "    random.seed(seed)\n",
    "    torch.manual_seed(seed)\n",
    "    # transformers.set_seed(seed)\n",
    "    if torch.cuda.is_available():\n",
    "        torch.cuda.manual_seed_all(seed)"
   ]
  },
  {
   "cell_type": "code",
   "execution_count": 40,
   "metadata": {},
   "outputs": [
    {
     "name": "stdout",
     "output_type": "stream",
     "text": [
      "Epoch 1/10, Loss: 0.5996758341789246\n",
      "Epoch 2/10, Loss: 0.5843840837478638\n",
      "Epoch 3/10, Loss: 0.6054803729057312\n",
      "Epoch 4/10, Loss: 0.5952678322792053\n",
      "Epoch 5/10, Loss: 0.5595031380653381\n",
      "Epoch 6/10, Loss: 0.5649318099021912\n",
      "Epoch 7/10, Loss: 0.5687665343284607\n",
      "Epoch 8/10, Loss: 0.5615719556808472\n",
      "Epoch 9/10, Loss: 0.5653002858161926\n",
      "Epoch 10/10, Loss: 0.5565263032913208\n"
     ]
    }
   ],
   "source": [
    "SEED = 595\n",
    "set_seed(SEED)\n",
    "\n",
    "image_features = np.load('features/image_features_resnet50_remove.npy')\n",
    "text_features = np.load('features/text_LaBSE_merge.npy')\n",
    "batch_size = 256\n",
    "img_feature_size = image_features.shape[1]\n",
    "txt_feature_size = text_features.shape[1]\n",
    "learning_rate = 0.0001\n",
    "weight_decay = 0.01\n",
    "epochs = 10\n",
    "sample_size = 5\n",
    "embed_dim = 1024\n",
    "\n",
    "dataset = FeatureDataset(image_features, text_features)\n",
    "dataloader = DataLoader(dataset, batch_size=batch_size, shuffle=True)\n",
    "branch_net = BranchNetwork(img_feature_size, txt_feature_size, embed_dim = embed_dim)\n",
    "# optimizer = torch.optim.Adam(branch_net.parameters(), lr=learning_rate)\n",
    "# contrastive_loss = ContrastiveLoss(0.07)\n",
    "optimizer = torch.optim.AdamW(branch_net.parameters(),\n",
    "                                lr=learning_rate)#,\n",
    "                                # weight_decay=weight_decay)\n",
    "lr_scheduler = torch.optim.lr_scheduler.CosineAnnealingLR(optimizer,\n",
    "                                                    T_max=epochs,\n",
    "                                                    eta_min=learning_rate/50)\n",
    "embed_loss = EmbeddingLoss()\n",
    "\n",
    "# Training\n",
    "for epoch in range(epochs):\n",
    "    for image_batch, text_batch in dataloader:\n",
    "        image_embedding, text_embedding = branch_net(image_batch, text_batch)\n",
    "        im_embeds, txt_embeds, im_labels = generate_neg_pairs(image_embedding, text_embedding, sample_size)\n",
    "        loss = embed_loss(im_embeds, txt_embeds, im_labels, sample_size)\n",
    "\n",
    "        optimizer.zero_grad()\n",
    "        loss.backward()\n",
    "        optimizer.step()\n",
    "    lr_scheduler.step()\n",
    "    print(f\"Epoch {epoch+1}/{epochs}, Loss: {loss.item()}\")"
   ]
  },
  {
   "cell_type": "code",
   "execution_count": 31,
   "metadata": {},
   "outputs": [],
   "source": [
    "i_result, t_result = branch_net.forward(torch.tensor(image_features), torch.tensor(text_features))"
   ]
  },
  {
   "cell_type": "code",
   "execution_count": 32,
   "metadata": {},
   "outputs": [],
   "source": [
    "np.save('trained_img_features.npy',i_result.detach().numpy())"
   ]
  },
  {
   "cell_type": "code",
   "execution_count": 33,
   "metadata": {},
   "outputs": [],
   "source": [
    "np.save('trained_txt_features.npy',t_result.detach().numpy())"
   ]
  },
  {
   "cell_type": "code",
   "execution_count": 41,
   "metadata": {},
   "outputs": [
    {
     "name": "stdout",
     "output_type": "stream",
     "text": [
      "(11854, 768)\n",
      "BinaryRelevance(LogisticRegression(random_state=42))\n",
      "0.5426593689632968\n",
      "Sample-based Accuracy: 0.41611845187892416\n",
      "Sample-based Precision: 0.5734232967856808\n",
      "Sample-based Recall: 0.5037578483740981\n",
      "Sample-based F1-score: 0.5009937927002869\n",
      "Label-based Accuracy: 0.35450781571043094\n",
      "Label-based Precision: 0.6374963051564114\n",
      "Label-based Recall: 0.443306598027435\n",
      "Label-based F1-score: 0.520058912991418\n"
     ]
    }
   ],
   "source": [
    "!python3.11 train.py --text_feature='features/text_mBERT_merge.npy' --model='BinaryRelevance(LogisticRegression(random_state=42))'"
   ]
  },
  {
   "cell_type": "code",
   "execution_count": 42,
   "metadata": {},
   "outputs": [
    {
     "name": "stdout",
     "output_type": "stream",
     "text": [
      "(11854, 2048)\n",
      "BinaryRelevance(LogisticRegression(random_state=42))\n",
      "0.5026655334930078\n",
      "Sample-based Accuracy: 0.37796698662596895\n",
      "Sample-based Precision: 0.5286336800674726\n",
      "Sample-based Recall: 0.48488426576703214\n",
      "Sample-based F1-score: 0.4677519400600649\n",
      "Label-based Accuracy: 0.3028654724292546\n",
      "Label-based Precision: 0.5109079695300565\n",
      "Label-based Recall: 0.4062938233821338\n",
      "Label-based F1-score: 0.4487280098957174\n"
     ]
    }
   ],
   "source": [
    "!python3.11 train.py --image_feature='features/image_features_resnet50_remove.npy' --model='BinaryRelevance(LogisticRegression(random_state=42))'"
   ]
  },
  {
   "cell_type": "code",
   "execution_count": 43,
   "metadata": {},
   "outputs": [
    {
     "name": "stdout",
     "output_type": "stream",
     "text": [
      "(11854, 768)\n",
      "(11854, 2048)\n",
      "BinaryRelevance(LogisticRegression(random_state=42))\n",
      "0.5969511746078504\n",
      "Sample-based Accuracy: 0.4678380657857745\n",
      "Sample-based Precision: 0.607928029238122\n",
      "Sample-based Recall: 0.6000749695436229\n",
      "Sample-based F1-score: 0.5647585132825503\n",
      "Label-based Accuracy: 0.4147852419374694\n",
      "Label-based Precision: 0.6221411222292456\n",
      "Label-based Recall: 0.5453912901237937\n",
      "Label-based F1-score: 0.5801559515731219\n"
     ]
    }
   ],
   "source": [
    "!python3.11 train.py --text_feature='features/text_mBERT_merge.npy' --image_feature='features/image_features_resnet50_remove.npy' --model='BinaryRelevance(LogisticRegression(random_state=42))'"
   ]
  },
  {
   "cell_type": "code",
   "execution_count": 47,
   "metadata": {},
   "outputs": [
    {
     "name": "stdout",
     "output_type": "stream",
     "text": [
      "(11854, 768)\n",
      "OneVsRestClassifier(LogisticRegression(random_state=42))\n",
      "0.5426593689632968\n",
      "Sample-based Accuracy: 0.41611845187892416\n",
      "Sample-based Precision: 0.5734232967856808\n",
      "Sample-based Recall: 0.5037578483740981\n",
      "Sample-based F1-score: 0.5009937927002869\n",
      "Label-based Accuracy: 0.35450781571043094\n",
      "Label-based Precision: 0.6374963051564114\n",
      "Label-based Recall: 0.443306598027435\n",
      "Label-based F1-score: 0.520058912991418\n"
     ]
    }
   ],
   "source": [
    "!python3.11 train.py --text_feature='features/text_mBERT_merge.npy' --model='OneVsRestClassifier(LogisticRegression(random_state=42))'"
   ]
  },
  {
   "cell_type": "code",
   "execution_count": 48,
   "metadata": {},
   "outputs": [
    {
     "name": "stdout",
     "output_type": "stream",
     "text": [
      "(11854, 2048)\n",
      "OneVsRestClassifier(LogisticRegression(random_state=42))\n",
      "0.5026655334930078\n",
      "Sample-based Accuracy: 0.37796698662596895\n",
      "Sample-based Precision: 0.5286336800674726\n",
      "Sample-based Recall: 0.48488426576703214\n",
      "Sample-based F1-score: 0.4677519400600649\n",
      "Label-based Accuracy: 0.3028654724292546\n",
      "Label-based Precision: 0.5109079695300565\n",
      "Label-based Recall: 0.4062938233821338\n",
      "Label-based F1-score: 0.4487280098957174\n"
     ]
    }
   ],
   "source": [
    "!python3.11 train.py --image_feature='features/image_features_resnet50_remove.npy' --model='OneVsRestClassifier(LogisticRegression(random_state=42))'"
   ]
  },
  {
   "cell_type": "code",
   "execution_count": 49,
   "metadata": {},
   "outputs": [
    {
     "name": "stdout",
     "output_type": "stream",
     "text": [
      "(11854, 768)\n",
      "(11854, 2048)\n",
      "OneVsRestClassifier(LogisticRegression(random_state=42))\n",
      "0.5969511746078504\n",
      "Sample-based Accuracy: 0.4678380657857745\n",
      "Sample-based Precision: 0.607928029238122\n",
      "Sample-based Recall: 0.6000749695436229\n",
      "Sample-based F1-score: 0.5647585132825503\n",
      "Label-based Accuracy: 0.4147852419374694\n",
      "Label-based Precision: 0.6221411222292456\n",
      "Label-based Recall: 0.5453912901237937\n",
      "Label-based F1-score: 0.5801559515731219\n"
     ]
    }
   ],
   "source": [
    "!python3.11 train.py --text_feature='features/text_mBERT_merge.npy' --image_feature='features/image_features_resnet50_remove.npy' --model='OneVsRestClassifier(LogisticRegression(random_state=42))'"
   ]
  },
  {
   "cell_type": "markdown",
   "metadata": {},
   "source": [
    "xlm"
   ]
  },
  {
   "cell_type": "code",
   "execution_count": 50,
   "metadata": {},
   "outputs": [
    {
     "name": "stdout",
     "output_type": "stream",
     "text": [
      "(11854, 768)\n",
      "BinaryRelevance(LogisticRegression(random_state=42))\n",
      "0.48500365764447695\n",
      "Sample-based Accuracy: 0.3595305032330615\n",
      "Sample-based Precision: 0.5279261549995314\n",
      "Sample-based Recall: 0.40648486552338114\n",
      "Sample-based F1-score: 0.42957280747553445\n",
      "Label-based Accuracy: 0.27399551726596105\n",
      "Label-based Precision: 0.7213468475990187\n",
      "Label-based Recall: 0.3130077107263505\n",
      "Label-based F1-score: 0.4218470926741217\n"
     ]
    }
   ],
   "source": [
    "!python3.11 train.py --text_feature='features/text_XLM-RoBERTa_merge.npy' --model='BinaryRelevance(LogisticRegression(random_state=42))'"
   ]
  },
  {
   "cell_type": "code",
   "execution_count": 51,
   "metadata": {},
   "outputs": [
    {
     "name": "stdout",
     "output_type": "stream",
     "text": [
      "(11854, 2048)\n",
      "BinaryRelevance(LogisticRegression(random_state=42))\n",
      "0.5026655334930078\n",
      "Sample-based Accuracy: 0.37796698662596895\n",
      "Sample-based Precision: 0.5286336800674726\n",
      "Sample-based Recall: 0.48488426576703214\n",
      "Sample-based F1-score: 0.4677519400600649\n",
      "Label-based Accuracy: 0.3028654724292546\n",
      "Label-based Precision: 0.5109079695300565\n",
      "Label-based Recall: 0.4062938233821338\n",
      "Label-based F1-score: 0.4487280098957174\n"
     ]
    }
   ],
   "source": [
    "!python3.11 train.py --image_feature='features/image_features_resnet50_remove.npy' --model='BinaryRelevance(LogisticRegression(random_state=42))'"
   ]
  },
  {
   "cell_type": "code",
   "execution_count": 52,
   "metadata": {},
   "outputs": [
    {
     "name": "stdout",
     "output_type": "stream",
     "text": [
      "(11854, 768)\n",
      "(11854, 2048)\n",
      "BinaryRelevance(LogisticRegression(random_state=42))\n",
      "0.5433685176686553\n",
      "Sample-based Accuracy: 0.4157161599528763\n",
      "Sample-based Precision: 0.5632227532564895\n",
      "Sample-based Recall: 0.52908349732921\n",
      "Sample-based F1-score: 0.5072483946253977\n",
      "Label-based Accuracy: 0.3473223671162996\n",
      "Label-based Precision: 0.5798377517626594\n",
      "Label-based Recall: 0.456364042268391\n",
      "Label-based F1-score: 0.5055567773541776\n"
     ]
    }
   ],
   "source": [
    "!python3.11 train.py --text_feature='features/text_XLM-RoBERTa_merge.npy' --image_feature='features/image_features_resnet50_remove.npy' --model='BinaryRelevance(LogisticRegression(random_state=42))'"
   ]
  },
  {
   "cell_type": "code",
   "execution_count": 53,
   "metadata": {},
   "outputs": [
    {
     "name": "stdout",
     "output_type": "stream",
     "text": [
      "(11854, 768)\n",
      "OneVsRestClassifier(LogisticRegression(random_state=42))\n",
      "0.48500365764447695\n",
      "Sample-based Accuracy: 0.3595305032330615\n",
      "Sample-based Precision: 0.5279261549995314\n",
      "Sample-based Recall: 0.40648486552338114\n",
      "Sample-based F1-score: 0.42957280747553445\n",
      "Label-based Accuracy: 0.27399551726596105\n",
      "Label-based Precision: 0.7213468475990187\n",
      "Label-based Recall: 0.3130077107263505\n",
      "Label-based F1-score: 0.4218470926741217\n"
     ]
    }
   ],
   "source": [
    "!python3.11 train.py --text_feature='features/text_XLM-RoBERTa_merge.npy' --model='OneVsRestClassifier(LogisticRegression(random_state=42))'"
   ]
  },
  {
   "cell_type": "code",
   "execution_count": 54,
   "metadata": {},
   "outputs": [
    {
     "name": "stdout",
     "output_type": "stream",
     "text": [
      "(11854, 2048)\n",
      "OneVsRestClassifier(LogisticRegression(random_state=42))\n",
      "0.5026655334930078\n",
      "Sample-based Accuracy: 0.37796698662596895\n",
      "Sample-based Precision: 0.5286336800674726\n",
      "Sample-based Recall: 0.48488426576703214\n",
      "Sample-based F1-score: 0.4677519400600649\n",
      "Label-based Accuracy: 0.3028654724292546\n",
      "Label-based Precision: 0.5109079695300565\n",
      "Label-based Recall: 0.4062938233821338\n",
      "Label-based F1-score: 0.4487280098957174\n"
     ]
    }
   ],
   "source": [
    "!python3.11 train.py --image_feature='features/image_features_resnet50_remove.npy' --model='OneVsRestClassifier(LogisticRegression(random_state=42))'"
   ]
  },
  {
   "cell_type": "code",
   "execution_count": 55,
   "metadata": {},
   "outputs": [
    {
     "name": "stdout",
     "output_type": "stream",
     "text": [
      "(11854, 768)\n",
      "(11854, 2048)\n",
      "OneVsRestClassifier(LogisticRegression(random_state=42))\n",
      "0.5433685176686553\n",
      "Sample-based Accuracy: 0.4157161599528763\n",
      "Sample-based Precision: 0.5632227532564895\n",
      "Sample-based Recall: 0.52908349732921\n",
      "Sample-based F1-score: 0.5072483946253977\n",
      "Label-based Accuracy: 0.3473223671162996\n",
      "Label-based Precision: 0.5798377517626594\n",
      "Label-based Recall: 0.456364042268391\n",
      "Label-based F1-score: 0.5055567773541776\n"
     ]
    }
   ],
   "source": [
    "!python3.11 train.py --text_feature='features/text_XLM-RoBERTa_merge.npy' --image_feature='features/image_features_resnet50_remove.npy' --model='OneVsRestClassifier(LogisticRegression(random_state=42))'"
   ]
  },
  {
   "cell_type": "code",
   "execution_count": null,
   "metadata": {},
   "outputs": [],
   "source": []
  }
 ],
 "metadata": {
  "kernelspec": {
   "display_name": "Python 3",
   "language": "python",
   "name": "python3"
  },
  "language_info": {
   "codemirror_mode": {
    "name": "ipython",
    "version": 3
   },
   "file_extension": ".py",
   "mimetype": "text/x-python",
   "name": "python",
   "nbconvert_exporter": "python",
   "pygments_lexer": "ipython3",
   "version": "3.11.1"
  }
 },
 "nbformat": 4,
 "nbformat_minor": 2
}
